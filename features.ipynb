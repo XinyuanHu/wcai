{
  "nbformat": 4,
  "nbformat_minor": 0,
  "metadata": {
    "colab": {
      "name": "features.ipynb",
      "version": "0.3.2",
      "provenance": [],
      "include_colab_link": true
    },
    "kernelspec": {
      "name": "python3",
      "display_name": "Python 3"
    }
  },
  "cells": [
    {
      "cell_type": "markdown",
      "metadata": {
        "id": "view-in-github",
        "colab_type": "text"
      },
      "source": [
        "<a href=\"https://colab.research.google.com/github/XinyuanHu/wcai/blob/master/features.ipynb\" target=\"_parent\"><img src=\"https://colab.research.google.com/assets/colab-badge.svg\" alt=\"Open In Colab\"/></a>"
      ]
    },
    {
      "metadata": {
        "id": "zvnbt4IZKuNB",
        "colab_type": "code",
        "colab": {}
      },
      "cell_type": "code",
      "source": [
        "#dates\n",
        "dates = df['event_date']\n",
        "#print(dates)"
      ],
      "execution_count": 0,
      "outputs": []
    },
    {
      "metadata": {
        "id": "UUuT59GfNuJq",
        "colab_type": "code",
        "colab": {}
      },
      "cell_type": "code",
      "source": [
        "#rsvp %\n",
        "yes_percent = df[\"rsvp_yes\"]/df[\"guests\"]\n",
        "no_percent = df[\"rsvp_no\"]/df[\"guests\"]\n",
        "maybe_percent = df[\"rsvp_maybe\"]/df[\"guests\"]\n",
        "undecided_percent = df[\"rsvp_undecided\"]/df[\"guests\"]"
      ],
      "execution_count": 0,
      "outputs": []
    },
    {
      "metadata": {
        "id": "R43-sJ4GNuWe",
        "colab_type": "code",
        "colab": {}
      },
      "cell_type": "code",
      "source": [
        "# time of the day\n",
        "times = [date.to_pydatetime(date).hour for date in dates]\n",
        "day_part = ['Morning' if (time >= 0 and time <= 11)\n",
        "            else 'Afternoon' if (time >= 12 and time <= 17)\n",
        "            else 'Evening' if (time >= 8 and time <= 23)\n",
        "            else 'Unknown'\n",
        "            for time in times]\n",
        "#print(day_part)"
      ],
      "execution_count": 0,
      "outputs": []
    },
    {
      "metadata": {
        "id": "B_fNoThbNubj",
        "colab_type": "code",
        "colab": {}
      },
      "cell_type": "code",
      "source": [
        "#seasons\n",
        "months = [date.to_pydatetime(date).month for date in dates]\n",
        "seasons = [(month%12 + 3)//3 for month in months]\n",
        "seasons_text = ['Winter' if s == 1 \n",
        "                else 'Spring' if s == 2 \n",
        "                else 'Summer' if s == 3 \n",
        "                else 'Fall' if s == 4 \n",
        "                else 'Unknown' for s in seasons]\n",
        "#print(seasons_text)"
      ],
      "execution_count": 0,
      "outputs": []
    },
    {
      "metadata": {
        "id": "fKqCojY8Nuds",
        "colab_type": "code",
        "colab": {}
      },
      "cell_type": "code",
      "source": [
        "#create event diff\n",
        "created_dates = df['created_date']\n",
        "created_dates = [create_date.to_pydatetime(create_date) for create_date in created_dates]\n",
        "event_dates = df['event_date']\n",
        "event_dates = [event_date.to_pydatetime(event_date) for event_date in event_dates]\n",
        "create_event_diff = [event - created for event, created in zip(event_dates, created_dates)]\n",
        "create_event_diff = [td.days for td in create_event_diff]\n",
        "#print(create_event_diff)"
      ],
      "execution_count": 0,
      "outputs": []
    },
    {
      "metadata": {
        "id": "-FHzzu_SNuhZ",
        "colab_type": "code",
        "colab": {}
      },
      "cell_type": "code",
      "source": [
        "#mail event diff\n",
        "mail_dates = df['sent_on']\n",
        "mail_dates = [mail_date.to_pydatetime(mail_date) for mail_date in mail_dates]\n",
        "mail_event_diff = [event - mail for event, mail in zip(event_dates, mail_dates)]\n",
        "mail_event_diff = [td.days for td in mail_event_diff]\n",
        "print(mail_event_diff)"
      ],
      "execution_count": 0,
      "outputs": []
    },
    {
      "metadata": {
        "id": "96khk7WrSOo_",
        "colab_type": "code",
        "colab": {}
      },
      "cell_type": "code",
      "source": [
        "#create mail diff\n",
        "create_mail_diff = [created - mail for created, mail in zip(created_dates, mail_dates)]\n",
        "create_mail_diff = [td.days for td in create_mail_diff]"
      ],
      "execution_count": 0,
      "outputs": []
    },
    {
      "metadata": {
        "id": "PB57EI64Nuje",
        "colab_type": "code",
        "colab": {}
      },
      "cell_type": "code",
      "source": [
        "#zip-income table\n",
        "from uszipcode import SearchEngine,Zipcode\n",
        "search = SearchEngine(simple_zipcode=True)\n",
        "result = search.by_median_household_income(returns=0)\n",
        "#to specify range,use lower/upper = \"\"\n",
        "#result = search.by_median_household_income(lower=100000,upper=150000,returns=0)\n",
        "#output to lists\n",
        "zip_list = []\n",
        "income_list = []\n",
        "\n",
        "for zipcode in result:\n",
        "    zip_list.append(zipcode.to_dict()['zipcode'])\n",
        "    income_list.append(zipcode.to_dict()['median_household_income'])\n",
        "    #rent_list.append(zipcode.to_dict()['monthly_rent_including_utilities_3plus_b'])\n",
        "#convert to df\n",
        "zip_df = pd.DataFrame({\n",
        "    'zipcode':zip_list,\n",
        "    'median_household_income':income_list\n",
        "})"
      ],
      "execution_count": 0,
      "outputs": []
    },
    {
      "metadata": {
        "id": "S7OEDb2oNumA",
        "colab_type": "code",
        "colab": {}
      },
      "cell_type": "code",
      "source": [
        ""
      ],
      "execution_count": 0,
      "outputs": []
    },
    {
      "metadata": {
        "id": "B66U5SoBNupv",
        "colab_type": "code",
        "colab": {}
      },
      "cell_type": "code",
      "source": [
        ""
      ],
      "execution_count": 0,
      "outputs": []
    }
  ]
}